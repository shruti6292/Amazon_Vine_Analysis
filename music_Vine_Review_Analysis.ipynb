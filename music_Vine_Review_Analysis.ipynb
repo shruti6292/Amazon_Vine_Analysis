{
  "nbformat": 4,
  "nbformat_minor": 0,
  "metadata": {
    "colab": {
      "name": "music_Vine_Review_Analysis",
      "provenance": [],
      "collapsed_sections": [],
      "authorship_tag": "ABX9TyN/Jf3SCFvqG9i/2lMgl66e",
      "include_colab_link": true
    },
    "kernelspec": {
      "name": "python3",
      "display_name": "Python 3"
    },
    "language_info": {
      "name": "python"
    }
  },
  "cells": [
    {
      "cell_type": "markdown",
      "metadata": {
        "id": "view-in-github",
        "colab_type": "text"
      },
      "source": [
        "<a href=\"https://colab.research.google.com/github/RGK73/Amazon_Vine_Analysis/blob/main/music_Vine_Review_Analysis.ipynb\" target=\"_parent\"><img src=\"https://colab.research.google.com/assets/colab-badge.svg\" alt=\"Open In Colab\"/></a>"
      ]
    },
    {
      "cell_type": "code",
      "execution_count": 13,
      "metadata": {
        "colab": {
          "base_uri": "https://localhost:8080/"
        },
        "id": "GB6M3R6EvDO2",
        "outputId": "1de933c2-c27e-45a2-dbb1-060f1c7a9232"
      },
      "outputs": [
        {
          "output_type": "stream",
          "name": "stdout",
          "text": [
            "Get:1 https://cloud.r-project.org/bin/linux/ubuntu bionic-cran40/ InRelease [3,626 B]\n",
            "Ign:2 https://developer.download.nvidia.com/compute/cuda/repos/ubuntu1804/x86_64  InRelease\n",
            "Hit:3 http://ppa.launchpad.net/c2d4u.team/c2d4u4.0+/ubuntu bionic InRelease\n",
            "Hit:4 http://archive.ubuntu.com/ubuntu bionic InRelease\n",
            "Get:5 http://security.ubuntu.com/ubuntu bionic-security InRelease [88.7 kB]\n",
            "Ign:6 https://developer.download.nvidia.com/compute/machine-learning/repos/ubuntu1804/x86_64  InRelease\n",
            "Hit:7 https://developer.download.nvidia.com/compute/cuda/repos/ubuntu1804/x86_64  Release\n",
            "Hit:8 https://developer.download.nvidia.com/compute/machine-learning/repos/ubuntu1804/x86_64  Release\n",
            "Get:9 http://archive.ubuntu.com/ubuntu bionic-updates InRelease [88.7 kB]\n",
            "Hit:10 http://ppa.launchpad.net/cran/libgit2/ubuntu bionic InRelease\n",
            "Hit:11 http://ppa.launchpad.net/deadsnakes/ppa/ubuntu bionic InRelease\n",
            "Get:12 http://archive.ubuntu.com/ubuntu bionic-backports InRelease [74.6 kB]\n",
            "Hit:13 http://ppa.launchpad.net/graphics-drivers/ppa/ubuntu bionic InRelease\n",
            "Fetched 256 kB in 3s (93.6 kB/s)\n",
            "Reading package lists... Done\n"
          ]
        }
      ],
      "source": [
        "import os\n",
        "# Find the latest version of spark 3.0 from http://www.apache.org/dist/spark/ and enter as the spark version\n",
        "# For example:\n",
        "# spark_version = 'spark-3.0.3'\n",
        "spark_version = 'spark-3.2.1'\n",
        "os.environ['SPARK_VERSION']=spark_version\n",
        "\n",
        "# Install Spark and Java\n",
        "!apt-get update\n",
        "!apt-get install openjdk-11-jdk-headless -qq > /dev/null\n",
        "!wget -q http://www.apache.org/dist/spark/$SPARK_VERSION/$SPARK_VERSION-bin-hadoop2.7.tgz\n",
        "!tar xf $SPARK_VERSION-bin-hadoop2.7.tgz\n",
        "!pip install -q findspark\n",
        "\n",
        "# Set Environment Variables\n",
        "import os\n",
        "os.environ[\"JAVA_HOME\"] = \"/usr/lib/jvm/java-11-openjdk-amd64\"\n",
        "os.environ[\"SPARK_HOME\"] = f\"/content/{spark_version}-bin-hadoop2.7\"\n",
        "\n",
        "# Start a SparkSession\n",
        "import findspark\n",
        "findspark.init()"
      ]
    },
    {
      "cell_type": "code",
      "source": [
        "# Download the Postgres driver that will allow Spark to interact with Postgres.\n",
        "!wget https://jdbc.postgresql.org/download/postgresql-42.2.16.jar"
      ],
      "metadata": {
        "colab": {
          "base_uri": "https://localhost:8080/"
        },
        "id": "nGPYrtc9veeT",
        "outputId": "010fab55-2db2-4977-de40-63bd34622584"
      },
      "execution_count": 14,
      "outputs": [
        {
          "output_type": "stream",
          "name": "stdout",
          "text": [
            "--2022-04-02 17:18:20--  https://jdbc.postgresql.org/download/postgresql-42.2.16.jar\n",
            "Resolving jdbc.postgresql.org (jdbc.postgresql.org)... 72.32.157.228, 2001:4800:3e1:1::228\n",
            "Connecting to jdbc.postgresql.org (jdbc.postgresql.org)|72.32.157.228|:443... connected.\n",
            "HTTP request sent, awaiting response... 200 OK\n",
            "Length: 1002883 (979K) [application/java-archive]\n",
            "Saving to: ‘postgresql-42.2.16.jar.2’\n",
            "\n",
            "postgresql-42.2.16. 100%[===================>] 979.38K  --.-KB/s    in 0.1s    \n",
            "\n",
            "2022-04-02 17:18:21 (6.58 MB/s) - ‘postgresql-42.2.16.jar.2’ saved [1002883/1002883]\n",
            "\n"
          ]
        }
      ]
    },
    {
      "cell_type": "code",
      "source": [
        "from pyspark.sql import SparkSession\n",
        "spark = SparkSession.builder.appName(\"M16-Amazon-Challenge\").config(\"spark.driver.extraClassPath\",\"/content/postgresql-42.2.16.jar\").getOrCreate()"
      ],
      "metadata": {
        "id": "TK2nv5hzvhyR"
      },
      "execution_count": 15,
      "outputs": []
    },
    {
      "cell_type": "code",
      "source": [
        "# Read in data from S3 Buckets\n",
        "from pyspark import SparkFiles\n",
        "url =\"https://revatibucket.s3.amazonaws.com/Resources/music_vine_table.csv\"\n",
        "spark.sparkContext.addFile(url)\n",
        "music_df = spark.read.csv(SparkFiles.get(\"music_vine_table.csv\"), sep=\",\", header=True, inferSchema=True)"
      ],
      "metadata": {
        "id": "1Uk7TJrsvk8F"
      },
      "execution_count": 16,
      "outputs": []
    },
    {
      "cell_type": "code",
      "source": [
        "# Create the vine_table. DataFrame\n",
        "music_vine_df = music_df.select([\"review_id\",\"star_rating\",\"helpful_votes\",\"total_votes\",\"vine\",\"verified_purchase\"])\n",
        "music_vine_df.drop_duplicates()\n",
        "music_vine_df.printSchema()\n",
        "music_vine_df.show()"
      ],
      "metadata": {
        "colab": {
          "base_uri": "https://localhost:8080/"
        },
        "id": "25g-P9GUv_s9",
        "outputId": "a479ad52-dd4f-4843-96e5-3c29c3139afe"
      },
      "execution_count": 8,
      "outputs": [
        {
          "output_type": "stream",
          "name": "stdout",
          "text": [
            "root\n",
            " |-- review_id: string (nullable = true)\n",
            " |-- star_rating: integer (nullable = true)\n",
            " |-- helpful_votes: integer (nullable = true)\n",
            " |-- total_votes: integer (nullable = true)\n",
            " |-- vine: string (nullable = true)\n",
            " |-- verified_purchase: string (nullable = true)\n",
            "\n",
            "+--------------+-----------+-------------+-----------+----+-----------------+\n",
            "|     review_id|star_rating|helpful_votes|total_votes|vine|verified_purchase|\n",
            "+--------------+-----------+-------------+-----------+----+-----------------+\n",
            "|R3LI5TRP3YIDQL|          5|            0|          0|   N|                Y|\n",
            "|R3LGC3EKEG84PX|          5|            0|          0|   N|                Y|\n",
            "| R9PYL3OYH55QY|          5|            0|          1|   N|                Y|\n",
            "|R3PWBAWUS4NT0Q|          3|            0|          0|   N|                Y|\n",
            "|R15LYP3O51UU9E|          5|            0|          0|   N|                Y|\n",
            "|R1AD7L0CC3DSRI|          5|            0|          0|   N|                Y|\n",
            "|R32FE8Y45QV434|          5|            0|          0|   N|                Y|\n",
            "|R3NM4MZ4XWL43Q|          5|            1|          2|   N|                Y|\n",
            "|R3H4FXX6Q7I37D|          4|            0|          0|   N|                Y|\n",
            "|R30L5PET7LFFDC|          5|            1|          1|   N|                Y|\n",
            "|  REFRE1LEKLAF|          4|            1|          1|   N|                Y|\n",
            "|R3JTJ5EQN74E9H|          5|            0|          0|   N|                Y|\n",
            "|R1W2F091LCOAW5|          5|            0|          0|   N|                Y|\n",
            "| RYUMFQRRB1FNM|          3|            0|          0|   N|                Y|\n",
            "| RHCS6VVXWV3Q3|          5|            0|          0|   N|                Y|\n",
            "|R35UL1YZ2142SL|          5|            0|          0|   N|                Y|\n",
            "|  RU1O6QD1LEBB|          5|            0|          0|   N|                Y|\n",
            "|R36RXVL3XIZFH7|          5|            0|          0|   N|                N|\n",
            "|R16O7SHYHLEYA1|          5|            0|          0|   N|                Y|\n",
            "|R1Y5GX65Z2V9BG|          5|            0|          0|   N|                N|\n",
            "+--------------+-----------+-------------+-----------+----+-----------------+\n",
            "only showing top 20 rows\n",
            "\n"
          ]
        }
      ]
    },
    {
      "cell_type": "markdown",
      "source": [
        "## Step 1\n",
        "Filter the data and create a new DataFrame or table to retrieve all the rows where the total_votes count is equal to or greater than 20 to pick reviews that are more likely to be helpful and to avoid having division by zero errors later on."
      ],
      "metadata": {
        "id": "f9S9jRtjwOoI"
      }
    },
    {
      "cell_type": "code",
      "source": [
        " # select all rows except review_id\n",
        "df_reviews = music_vine_df.select([\"star_rating\",\"helpful_votes\",\"total_votes\",\"vine\",\"verified_purchase\"])\n",
        "\n",
        "# filter df_reviews for all rows where total_votes >= 20\n",
        "df_reviews_20 = df_reviews.filter(df_reviews[\"total_votes\"] >= 20)\n",
        "df_reviews_20.show()"
      ],
      "metadata": {
        "colab": {
          "base_uri": "https://localhost:8080/"
        },
        "id": "ewPC68aowTs9",
        "outputId": "b9d54416-a706-4c59-ea1e-529958d3d99b"
      },
      "execution_count": 17,
      "outputs": [
        {
          "output_type": "stream",
          "name": "stdout",
          "text": [
            "+-----------+-------------+-----------+----+-----------------+\n",
            "|star_rating|helpful_votes|total_votes|vine|verified_purchase|\n",
            "+-----------+-------------+-----------+----+-----------------+\n",
            "|          3|           25|         26|   N|                Y|\n",
            "|          5|           25|         26|   N|                N|\n",
            "|          5|           19|         20|   N|                Y|\n",
            "|          5|           19|         21|   N|                Y|\n",
            "|          5|           46|         48|   N|                N|\n",
            "|          4|           46|         46|   N|                N|\n",
            "|          5|          292|        300|   N|                N|\n",
            "|          4|           21|         22|   N|                N|\n",
            "|          5|           26|         26|   N|                N|\n",
            "|          2|           11|         22|   N|                N|\n",
            "|          5|           26|         30|   N|                Y|\n",
            "|          4|           26|         27|   N|                N|\n",
            "|          3|           14|         20|   N|                Y|\n",
            "|          1|            2|         24|   N|                Y|\n",
            "|          5|           36|         39|   N|                N|\n",
            "|          5|          125|        131|   N|                Y|\n",
            "|          5|           24|         25|   N|                N|\n",
            "|          1|           29|         42|   N|                Y|\n",
            "|          5|           28|         33|   N|                N|\n",
            "|          1|           12|         21|   N|                N|\n",
            "+-----------+-------------+-----------+----+-----------------+\n",
            "only showing top 20 rows\n",
            "\n"
          ]
        }
      ]
    },
    {
      "cell_type": "markdown",
      "source": [
        "## Step 2\n",
        "Filter the new DataFrame or table created in Step 1 and create a new DataFrame or table to retrieve all the rows where the number of helpful_votes divided by total_votes is equal to or greater than 50%."
      ],
      "metadata": {
        "id": "Dwpi-bfP2tkg"
      }
    },
    {
      "cell_type": "code",
      "source": [
        "# filter df_reviews_20 for all rows where helpful+_votes/total_votes >= 0.5\n",
        "# df_reviews_50 = df_reviews_20.filter(\"(helpful_votes/total_votes)>=0.5\")\n",
        "# df_reviews_50.show()\n",
        "df_reviews_50 = df_reviews_20.filter(df_reviews_20[\"helpful_votes\"] / df_reviews_20[\"total_votes\"] >= 0.5)\n",
        "df_reviews_50.show()"
      ],
      "metadata": {
        "colab": {
          "base_uri": "https://localhost:8080/"
        },
        "id": "WY6uar-z2uMW",
        "outputId": "49973326-27ba-4726-c37d-e991f14c189c"
      },
      "execution_count": 18,
      "outputs": [
        {
          "output_type": "stream",
          "name": "stdout",
          "text": [
            "+-----------+-------------+-----------+----+-----------------+\n",
            "|star_rating|helpful_votes|total_votes|vine|verified_purchase|\n",
            "+-----------+-------------+-----------+----+-----------------+\n",
            "|          3|           25|         26|   N|                Y|\n",
            "|          5|           25|         26|   N|                N|\n",
            "|          5|           19|         20|   N|                Y|\n",
            "|          5|           19|         21|   N|                Y|\n",
            "|          5|           46|         48|   N|                N|\n",
            "|          4|           46|         46|   N|                N|\n",
            "|          5|          292|        300|   N|                N|\n",
            "|          4|           21|         22|   N|                N|\n",
            "|          5|           26|         26|   N|                N|\n",
            "|          2|           11|         22|   N|                N|\n",
            "|          5|           26|         30|   N|                Y|\n",
            "|          4|           26|         27|   N|                N|\n",
            "|          3|           14|         20|   N|                Y|\n",
            "|          5|           36|         39|   N|                N|\n",
            "|          5|          125|        131|   N|                Y|\n",
            "|          5|           24|         25|   N|                N|\n",
            "|          1|           29|         42|   N|                Y|\n",
            "|          5|           28|         33|   N|                N|\n",
            "|          1|           12|         21|   N|                N|\n",
            "|          5|           52|         56|   N|                N|\n",
            "+-----------+-------------+-----------+----+-----------------+\n",
            "only showing top 20 rows\n",
            "\n"
          ]
        }
      ]
    },
    {
      "cell_type": "markdown",
      "source": [
        "## Step 3\n",
        "Filter the DataFrame or table created in Step 2, and create a new DataFrame or table that retrieves all the rows where a review was written as part of the Vine program (paid), vine == 'Y'."
      ],
      "metadata": {
        "id": "7Ly9biAj20p1"
      }
    },
    {
      "cell_type": "code",
      "source": [
        "# filter df_reviews_50 for all rows where vine = 'Y'\n",
        "paid_reviews_df = df_reviews_50.filter(df_reviews_50[\"vine\"] == \"Y\")\n",
        "paid_reviews_df.show()"
      ],
      "metadata": {
        "colab": {
          "base_uri": "https://localhost:8080/"
        },
        "id": "pDvYyNXT21O6",
        "outputId": "c2ffc6b4-8d77-4449-82ba-8a0fe46933e6"
      },
      "execution_count": 19,
      "outputs": [
        {
          "output_type": "stream",
          "name": "stdout",
          "text": [
            "+-----------+-------------+-----------+----+-----------------+\n",
            "|star_rating|helpful_votes|total_votes|vine|verified_purchase|\n",
            "+-----------+-------------+-----------+----+-----------------+\n",
            "|          3|           18|         28|   Y|                N|\n",
            "|          4|           20|         21|   Y|                N|\n",
            "|          4|           54|         58|   Y|                N|\n",
            "|          3|           35|         44|   Y|                N|\n",
            "|          4|           15|         22|   Y|                N|\n",
            "|          4|           25|         27|   Y|                N|\n",
            "|          3|           21|         22|   Y|                N|\n",
            "+-----------+-------------+-----------+----+-----------------+\n",
            "\n"
          ]
        }
      ]
    },
    {
      "cell_type": "code",
      "source": [
        "# summary statistics paid reviews\n",
        "paid_reviews_df.describe().show()"
      ],
      "metadata": {
        "colab": {
          "base_uri": "https://localhost:8080/"
        },
        "id": "NnhI4pbo3UI5",
        "outputId": "82c0d556-7d5f-497f-cb95-9beb49617493"
      },
      "execution_count": 20,
      "outputs": [
        {
          "output_type": "stream",
          "name": "stdout",
          "text": [
            "+-------+------------------+------------------+------------------+----+-----------------+\n",
            "|summary|       star_rating|     helpful_votes|       total_votes|vine|verified_purchase|\n",
            "+-------+------------------+------------------+------------------+----+-----------------+\n",
            "|  count|                 7|                 7|                 7|   7|                7|\n",
            "|   mean|3.5714285714285716|26.857142857142858|31.714285714285715|null|             null|\n",
            "| stddev|0.5345224838248488|13.582201238245238|14.032275720807439|null|             null|\n",
            "|    min|                 3|                15|                21|   Y|                N|\n",
            "|    max|                 4|                54|                58|   Y|                N|\n",
            "+-------+------------------+------------------+------------------+----+-----------------+\n",
            "\n"
          ]
        }
      ]
    },
    {
      "cell_type": "markdown",
      "source": [
        "## Step 4\n",
        "Repeat Step 3, but this time retrieve all the rows where the review was not part of the Vine program (unpaid), vine == 'N'."
      ],
      "metadata": {
        "id": "lK2Djqw03YQz"
      }
    },
    {
      "cell_type": "code",
      "source": [
        "# filter df_reviews_50 for all rows where vine = 'N'\n",
        "unpaid_reviews_df = df_reviews_50.filter(df_reviews_50[\"vine\"] == \"N\")\n",
        "unpaid_reviews_df.show()"
      ],
      "metadata": {
        "colab": {
          "base_uri": "https://localhost:8080/"
        },
        "id": "texX8gXW3Y58",
        "outputId": "a0a07ff0-756e-497d-b271-b18dd0f6721f"
      },
      "execution_count": 21,
      "outputs": [
        {
          "output_type": "stream",
          "name": "stdout",
          "text": [
            "+-----------+-------------+-----------+----+-----------------+\n",
            "|star_rating|helpful_votes|total_votes|vine|verified_purchase|\n",
            "+-----------+-------------+-----------+----+-----------------+\n",
            "|          3|           25|         26|   N|                Y|\n",
            "|          5|           25|         26|   N|                N|\n",
            "|          5|           19|         20|   N|                Y|\n",
            "|          5|           19|         21|   N|                Y|\n",
            "|          5|           46|         48|   N|                N|\n",
            "|          4|           46|         46|   N|                N|\n",
            "|          5|          292|        300|   N|                N|\n",
            "|          4|           21|         22|   N|                N|\n",
            "|          5|           26|         26|   N|                N|\n",
            "|          2|           11|         22|   N|                N|\n",
            "|          5|           26|         30|   N|                Y|\n",
            "|          4|           26|         27|   N|                N|\n",
            "|          3|           14|         20|   N|                Y|\n",
            "|          5|           36|         39|   N|                N|\n",
            "|          5|          125|        131|   N|                Y|\n",
            "|          5|           24|         25|   N|                N|\n",
            "|          1|           29|         42|   N|                Y|\n",
            "|          5|           28|         33|   N|                N|\n",
            "|          1|           12|         21|   N|                N|\n",
            "|          5|           52|         56|   N|                N|\n",
            "+-----------+-------------+-----------+----+-----------------+\n",
            "only showing top 20 rows\n",
            "\n"
          ]
        }
      ]
    },
    {
      "cell_type": "code",
      "source": [
        "# summary statistics unpaid reviews\n",
        "unpaid_reviews_df.describe().show()"
      ],
      "metadata": {
        "colab": {
          "base_uri": "https://localhost:8080/"
        },
        "id": "1BfhuAfu3cGK",
        "outputId": "b1960e5c-c6cf-4dfa-fb39-2ab7cc53e9d8"
      },
      "execution_count": 22,
      "outputs": [
        {
          "output_type": "stream",
          "name": "stdout",
          "text": [
            "+-------+------------------+------------------+------------------+------+-----------------+\n",
            "|summary|       star_rating|     helpful_votes|       total_votes|  vine|verified_purchase|\n",
            "+-------+------------------+------------------+------------------+------+-----------------+\n",
            "|  count|            105979|            105979|            105979|105979|           105979|\n",
            "|   mean| 4.203021353286972| 34.48632276205663|38.640674095811434|  null|             null|\n",
            "| stddev|1.2847072310247238|35.853572156291975|38.399905374092576|  null|             null|\n",
            "|    min|                 1|                10|                20|     N|                N|\n",
            "|    max|                 5|              2181|              2246|     N|                Y|\n",
            "+-------+------------------+------------------+------------------+------+-----------------+\n",
            "\n"
          ]
        }
      ]
    },
    {
      "cell_type": "markdown",
      "source": [
        "## Step 5\n",
        "Determine the total number of reviews, the number of 5-star reviews, and the percentage of 5-star reviews for the two types of review (paid vs unpaid)."
      ],
      "metadata": {
        "id": "bSwtlm4K3j3n"
      }
    },
    {
      "cell_type": "code",
      "source": [
        "# determine the count of paid 5 star reviews\n",
        "paid_five_star_reviews = paid_reviews_df[paid_reviews_df[\"star_rating\"] == 5].count()\n",
        "paid_five_star_reviews"
      ],
      "metadata": {
        "colab": {
          "base_uri": "https://localhost:8080/"
        },
        "id": "7m-3cZU13nJG",
        "outputId": "816d8c20-dee8-4573-a37a-8bcd25b19b0f"
      },
      "execution_count": 23,
      "outputs": [
        {
          "output_type": "execute_result",
          "data": {
            "text/plain": [
              "0"
            ]
          },
          "metadata": {},
          "execution_count": 23
        }
      ]
    },
    {
      "cell_type": "code",
      "source": [
        "# determine the count of paid reviews\n",
        "paid_reviews = paid_reviews_df.count()\n",
        "paid_reviews"
      ],
      "metadata": {
        "colab": {
          "base_uri": "https://localhost:8080/"
        },
        "id": "r7pgE4Za3tM-",
        "outputId": "26990b08-9bf7-4dfa-80ee-d95de8d2f26f"
      },
      "execution_count": 24,
      "outputs": [
        {
          "output_type": "execute_result",
          "data": {
            "text/plain": [
              "7"
            ]
          },
          "metadata": {},
          "execution_count": 24
        }
      ]
    },
    {
      "cell_type": "code",
      "source": [
        "# determine the % of paid five star reviews\n",
        "percentage_paid_5star_reviews = (paid_five_star_reviews / paid_reviews) * 100\n",
        "percentage_paid_5star_reviews"
      ],
      "metadata": {
        "colab": {
          "base_uri": "https://localhost:8080/"
        },
        "id": "zE6ekGrb3x4N",
        "outputId": "80832a82-b56e-44a4-9acb-409de76a6955"
      },
      "execution_count": 25,
      "outputs": [
        {
          "output_type": "execute_result",
          "data": {
            "text/plain": [
              "0.0"
            ]
          },
          "metadata": {},
          "execution_count": 25
        }
      ]
    },
    {
      "cell_type": "code",
      "source": [
        "# determine the count of unpaid 5 star reviews\n",
        "unpaid_five_star_reviews = unpaid_reviews_df[unpaid_reviews_df[\"star_rating\"] == 5].count()\n",
        "unpaid_five_star_reviews"
      ],
      "metadata": {
        "colab": {
          "base_uri": "https://localhost:8080/"
        },
        "id": "78kF-qKx30xc",
        "outputId": "8d64879e-95ae-449d-e0ae-fd4a51b9c76e"
      },
      "execution_count": 26,
      "outputs": [
        {
          "output_type": "execute_result",
          "data": {
            "text/plain": [
              "67580"
            ]
          },
          "metadata": {},
          "execution_count": 26
        }
      ]
    },
    {
      "cell_type": "code",
      "source": [
        "# determine the count of unpaid reviews\n",
        "unpaid_reviews = unpaid_reviews_df.count()\n",
        "unpaid_reviews"
      ],
      "metadata": {
        "colab": {
          "base_uri": "https://localhost:8080/"
        },
        "id": "YkJ8NE9Y34qe",
        "outputId": "6cec4ab1-cd77-4ad3-cef1-bea142743d6c"
      },
      "execution_count": 27,
      "outputs": [
        {
          "output_type": "execute_result",
          "data": {
            "text/plain": [
              "105979"
            ]
          },
          "metadata": {},
          "execution_count": 27
        }
      ]
    },
    {
      "cell_type": "code",
      "source": [
        "# determine the % of unpaid five star reviews\n",
        "percentage_unpaid_5star_reviews = (unpaid_five_star_reviews / unpaid_reviews) * 100\n",
        "percentage_unpaid_5star_reviews"
      ],
      "metadata": {
        "colab": {
          "base_uri": "https://localhost:8080/"
        },
        "id": "qeUOlpxx36hK",
        "outputId": "77195140-8964-4126-d39f-96ed1f77dfaa"
      },
      "execution_count": null,
      "outputs": [
        {
          "output_type": "execute_result",
          "data": {
            "text/plain": [
              "63.767350135404186"
            ]
          },
          "metadata": {},
          "execution_count": 17
        }
      ]
    }
  ]
}